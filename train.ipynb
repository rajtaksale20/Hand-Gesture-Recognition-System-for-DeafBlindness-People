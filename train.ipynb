{
 "cells": [
  {
   "cell_type": "code",
   "execution_count": 9,
   "metadata": {},
   "outputs": [],
   "source": [
    "import pandas as pd\n",
    "from sklearn.model_selection import train_test_split\n",
    "from sklearn.metrics import accuracy_score, confusion_matrix, classification_report, f1_score, recall_score, precision_score\n",
    "from sklearn.svm import SVC\n",
    "from sklearn.model_selection import GridSearchCV\n",
    "import seaborn as sns\n",
    "import matplotlib.pyplot as plt\n",
    "import numpy as np"
   ]
  },
  {
   "cell_type": "code",
   "execution_count": 13,
   "metadata": {},
   "outputs": [
    {
     "data": {
      "text/plain": [
       "(599, 64)"
      ]
     },
     "execution_count": 13,
     "metadata": {},
     "output_type": "execute_result"
    }
   ],
   "source": [
    "df = pd.read_csv('dataset.csv')\n",
    "df.columns = [i for i in range(df.shape[1])]\n",
    "df.shape"
   ]
  },
  {
   "cell_type": "code",
   "execution_count": 14,
   "metadata": {},
   "outputs": [
    {
     "data": {
      "text/html": [
       "<div>\n",
       "<style scoped>\n",
       "    .dataframe tbody tr th:only-of-type {\n",
       "        vertical-align: middle;\n",
       "    }\n",
       "\n",
       "    .dataframe tbody tr th {\n",
       "        vertical-align: top;\n",
       "    }\n",
       "\n",
       "    .dataframe thead th {\n",
       "        text-align: right;\n",
       "    }\n",
       "</style>\n",
       "<table border=\"1\" class=\"dataframe\">\n",
       "  <thead>\n",
       "    <tr style=\"text-align: right;\">\n",
       "      <th></th>\n",
       "      <th>0</th>\n",
       "      <th>1</th>\n",
       "      <th>2</th>\n",
       "      <th>3</th>\n",
       "      <th>4</th>\n",
       "      <th>5</th>\n",
       "      <th>6</th>\n",
       "      <th>7</th>\n",
       "      <th>8</th>\n",
       "      <th>9</th>\n",
       "      <th>...</th>\n",
       "      <th>54</th>\n",
       "      <th>55</th>\n",
       "      <th>56</th>\n",
       "      <th>57</th>\n",
       "      <th>58</th>\n",
       "      <th>59</th>\n",
       "      <th>60</th>\n",
       "      <th>61</th>\n",
       "      <th>62</th>\n",
       "      <th>Output</th>\n",
       "    </tr>\n",
       "  </thead>\n",
       "  <tbody>\n",
       "    <tr>\n",
       "      <th>0</th>\n",
       "      <td>0.209077</td>\n",
       "      <td>0.494294</td>\n",
       "      <td>-4.358417e-07</td>\n",
       "      <td>0.283013</td>\n",
       "      <td>0.515607</td>\n",
       "      <td>-0.029916</td>\n",
       "      <td>0.344175</td>\n",
       "      <td>0.524508</td>\n",
       "      <td>-0.058789</td>\n",
       "      <td>0.376704</td>\n",
       "      <td>...</td>\n",
       "      <td>0.219452</td>\n",
       "      <td>0.438277</td>\n",
       "      <td>-0.100613</td>\n",
       "      <td>0.209725</td>\n",
       "      <td>0.442692</td>\n",
       "      <td>-0.104049</td>\n",
       "      <td>0.203805</td>\n",
       "      <td>0.402351</td>\n",
       "      <td>-0.107710</td>\n",
       "      <td>1</td>\n",
       "    </tr>\n",
       "    <tr>\n",
       "      <th>1</th>\n",
       "      <td>0.204186</td>\n",
       "      <td>0.492401</td>\n",
       "      <td>-4.514539e-07</td>\n",
       "      <td>0.276894</td>\n",
       "      <td>0.511163</td>\n",
       "      <td>-0.037346</td>\n",
       "      <td>0.338912</td>\n",
       "      <td>0.517702</td>\n",
       "      <td>-0.070410</td>\n",
       "      <td>0.373700</td>\n",
       "      <td>...</td>\n",
       "      <td>0.219059</td>\n",
       "      <td>0.411947</td>\n",
       "      <td>-0.103188</td>\n",
       "      <td>0.207248</td>\n",
       "      <td>0.430368</td>\n",
       "      <td>-0.105370</td>\n",
       "      <td>0.200352</td>\n",
       "      <td>0.395185</td>\n",
       "      <td>-0.106981</td>\n",
       "      <td>1</td>\n",
       "    </tr>\n",
       "    <tr>\n",
       "      <th>2</th>\n",
       "      <td>0.213327</td>\n",
       "      <td>0.492544</td>\n",
       "      <td>-4.344125e-07</td>\n",
       "      <td>0.285113</td>\n",
       "      <td>0.510551</td>\n",
       "      <td>-0.037325</td>\n",
       "      <td>0.346213</td>\n",
       "      <td>0.513936</td>\n",
       "      <td>-0.069004</td>\n",
       "      <td>0.380712</td>\n",
       "      <td>...</td>\n",
       "      <td>0.226234</td>\n",
       "      <td>0.424540</td>\n",
       "      <td>-0.096799</td>\n",
       "      <td>0.216626</td>\n",
       "      <td>0.438910</td>\n",
       "      <td>-0.100054</td>\n",
       "      <td>0.209424</td>\n",
       "      <td>0.403837</td>\n",
       "      <td>-0.102470</td>\n",
       "      <td>1</td>\n",
       "    </tr>\n",
       "    <tr>\n",
       "      <th>3</th>\n",
       "      <td>0.222521</td>\n",
       "      <td>0.489006</td>\n",
       "      <td>-3.891248e-07</td>\n",
       "      <td>0.296665</td>\n",
       "      <td>0.506369</td>\n",
       "      <td>-0.033187</td>\n",
       "      <td>0.357758</td>\n",
       "      <td>0.510351</td>\n",
       "      <td>-0.063082</td>\n",
       "      <td>0.383098</td>\n",
       "      <td>...</td>\n",
       "      <td>0.217299</td>\n",
       "      <td>0.447498</td>\n",
       "      <td>-0.106748</td>\n",
       "      <td>0.211923</td>\n",
       "      <td>0.454171</td>\n",
       "      <td>-0.108171</td>\n",
       "      <td>0.210991</td>\n",
       "      <td>0.411706</td>\n",
       "      <td>-0.109305</td>\n",
       "      <td>1</td>\n",
       "    </tr>\n",
       "    <tr>\n",
       "      <th>4</th>\n",
       "      <td>0.227665</td>\n",
       "      <td>0.494178</td>\n",
       "      <td>-3.129705e-07</td>\n",
       "      <td>0.302293</td>\n",
       "      <td>0.512005</td>\n",
       "      <td>-0.034062</td>\n",
       "      <td>0.363433</td>\n",
       "      <td>0.520834</td>\n",
       "      <td>-0.066312</td>\n",
       "      <td>0.384049</td>\n",
       "      <td>...</td>\n",
       "      <td>0.219057</td>\n",
       "      <td>0.467404</td>\n",
       "      <td>-0.115213</td>\n",
       "      <td>0.217903</td>\n",
       "      <td>0.473444</td>\n",
       "      <td>-0.115861</td>\n",
       "      <td>0.217759</td>\n",
       "      <td>0.432811</td>\n",
       "      <td>-0.116859</td>\n",
       "      <td>1</td>\n",
       "    </tr>\n",
       "    <tr>\n",
       "      <th>...</th>\n",
       "      <td>...</td>\n",
       "      <td>...</td>\n",
       "      <td>...</td>\n",
       "      <td>...</td>\n",
       "      <td>...</td>\n",
       "      <td>...</td>\n",
       "      <td>...</td>\n",
       "      <td>...</td>\n",
       "      <td>...</td>\n",
       "      <td>...</td>\n",
       "      <td>...</td>\n",
       "      <td>...</td>\n",
       "      <td>...</td>\n",
       "      <td>...</td>\n",
       "      <td>...</td>\n",
       "      <td>...</td>\n",
       "      <td>...</td>\n",
       "      <td>...</td>\n",
       "      <td>...</td>\n",
       "      <td>...</td>\n",
       "      <td>...</td>\n",
       "    </tr>\n",
       "    <tr>\n",
       "      <th>594</th>\n",
       "      <td>0.200783</td>\n",
       "      <td>0.910152</td>\n",
       "      <td>4.020791e-07</td>\n",
       "      <td>0.177169</td>\n",
       "      <td>0.849936</td>\n",
       "      <td>-0.008701</td>\n",
       "      <td>0.182696</td>\n",
       "      <td>0.789711</td>\n",
       "      <td>-0.017385</td>\n",
       "      <td>0.188314</td>\n",
       "      <td>...</td>\n",
       "      <td>0.338273</td>\n",
       "      <td>0.824089</td>\n",
       "      <td>-0.036235</td>\n",
       "      <td>0.360682</td>\n",
       "      <td>0.798657</td>\n",
       "      <td>-0.038640</td>\n",
       "      <td>0.378084</td>\n",
       "      <td>0.776581</td>\n",
       "      <td>-0.039933</td>\n",
       "      <td>5</td>\n",
       "    </tr>\n",
       "    <tr>\n",
       "      <th>595</th>\n",
       "      <td>0.188032</td>\n",
       "      <td>0.895754</td>\n",
       "      <td>3.450958e-07</td>\n",
       "      <td>0.167665</td>\n",
       "      <td>0.836602</td>\n",
       "      <td>-0.007306</td>\n",
       "      <td>0.174568</td>\n",
       "      <td>0.780173</td>\n",
       "      <td>-0.014869</td>\n",
       "      <td>0.179241</td>\n",
       "      <td>...</td>\n",
       "      <td>0.325438</td>\n",
       "      <td>0.819249</td>\n",
       "      <td>-0.034640</td>\n",
       "      <td>0.347165</td>\n",
       "      <td>0.795184</td>\n",
       "      <td>-0.036959</td>\n",
       "      <td>0.363365</td>\n",
       "      <td>0.774697</td>\n",
       "      <td>-0.038135</td>\n",
       "      <td>5</td>\n",
       "    </tr>\n",
       "    <tr>\n",
       "      <th>596</th>\n",
       "      <td>0.558155</td>\n",
       "      <td>0.897893</td>\n",
       "      <td>3.100475e-07</td>\n",
       "      <td>0.576367</td>\n",
       "      <td>0.831586</td>\n",
       "      <td>-0.016501</td>\n",
       "      <td>0.571209</td>\n",
       "      <td>0.765804</td>\n",
       "      <td>-0.025986</td>\n",
       "      <td>0.561998</td>\n",
       "      <td>...</td>\n",
       "      <td>0.429327</td>\n",
       "      <td>0.808947</td>\n",
       "      <td>-0.023932</td>\n",
       "      <td>0.409298</td>\n",
       "      <td>0.783474</td>\n",
       "      <td>-0.028310</td>\n",
       "      <td>0.392631</td>\n",
       "      <td>0.762542</td>\n",
       "      <td>-0.030718</td>\n",
       "      <td>5</td>\n",
       "    </tr>\n",
       "    <tr>\n",
       "      <th>597</th>\n",
       "      <td>0.559202</td>\n",
       "      <td>0.899069</td>\n",
       "      <td>2.970927e-07</td>\n",
       "      <td>0.576982</td>\n",
       "      <td>0.833224</td>\n",
       "      <td>-0.014849</td>\n",
       "      <td>0.570732</td>\n",
       "      <td>0.767783</td>\n",
       "      <td>-0.023710</td>\n",
       "      <td>0.561324</td>\n",
       "      <td>...</td>\n",
       "      <td>0.429307</td>\n",
       "      <td>0.810935</td>\n",
       "      <td>-0.023443</td>\n",
       "      <td>0.409176</td>\n",
       "      <td>0.786181</td>\n",
       "      <td>-0.027890</td>\n",
       "      <td>0.392325</td>\n",
       "      <td>0.764877</td>\n",
       "      <td>-0.030587</td>\n",
       "      <td>5</td>\n",
       "    </tr>\n",
       "    <tr>\n",
       "      <th>598</th>\n",
       "      <td>0.560677</td>\n",
       "      <td>0.904276</td>\n",
       "      <td>2.792277e-07</td>\n",
       "      <td>0.578249</td>\n",
       "      <td>0.836993</td>\n",
       "      <td>-0.013312</td>\n",
       "      <td>0.572020</td>\n",
       "      <td>0.769489</td>\n",
       "      <td>-0.021281</td>\n",
       "      <td>0.562187</td>\n",
       "      <td>...</td>\n",
       "      <td>0.431145</td>\n",
       "      <td>0.811446</td>\n",
       "      <td>-0.022523</td>\n",
       "      <td>0.411389</td>\n",
       "      <td>0.786187</td>\n",
       "      <td>-0.026949</td>\n",
       "      <td>0.394784</td>\n",
       "      <td>0.764575</td>\n",
       "      <td>-0.029734</td>\n",
       "      <td>5</td>\n",
       "    </tr>\n",
       "  </tbody>\n",
       "</table>\n",
       "<p>599 rows × 64 columns</p>\n",
       "</div>"
      ],
      "text/plain": [
       "            0         1             2         3         4         5         6  \\\n",
       "0    0.209077  0.494294 -4.358417e-07  0.283013  0.515607 -0.029916  0.344175   \n",
       "1    0.204186  0.492401 -4.514539e-07  0.276894  0.511163 -0.037346  0.338912   \n",
       "2    0.213327  0.492544 -4.344125e-07  0.285113  0.510551 -0.037325  0.346213   \n",
       "3    0.222521  0.489006 -3.891248e-07  0.296665  0.506369 -0.033187  0.357758   \n",
       "4    0.227665  0.494178 -3.129705e-07  0.302293  0.512005 -0.034062  0.363433   \n",
       "..        ...       ...           ...       ...       ...       ...       ...   \n",
       "594  0.200783  0.910152  4.020791e-07  0.177169  0.849936 -0.008701  0.182696   \n",
       "595  0.188032  0.895754  3.450958e-07  0.167665  0.836602 -0.007306  0.174568   \n",
       "596  0.558155  0.897893  3.100475e-07  0.576367  0.831586 -0.016501  0.571209   \n",
       "597  0.559202  0.899069  2.970927e-07  0.576982  0.833224 -0.014849  0.570732   \n",
       "598  0.560677  0.904276  2.792277e-07  0.578249  0.836993 -0.013312  0.572020   \n",
       "\n",
       "            7         8         9  ...        54        55        56  \\\n",
       "0    0.524508 -0.058789  0.376704  ...  0.219452  0.438277 -0.100613   \n",
       "1    0.517702 -0.070410  0.373700  ...  0.219059  0.411947 -0.103188   \n",
       "2    0.513936 -0.069004  0.380712  ...  0.226234  0.424540 -0.096799   \n",
       "3    0.510351 -0.063082  0.383098  ...  0.217299  0.447498 -0.106748   \n",
       "4    0.520834 -0.066312  0.384049  ...  0.219057  0.467404 -0.115213   \n",
       "..        ...       ...       ...  ...       ...       ...       ...   \n",
       "594  0.789711 -0.017385  0.188314  ...  0.338273  0.824089 -0.036235   \n",
       "595  0.780173 -0.014869  0.179241  ...  0.325438  0.819249 -0.034640   \n",
       "596  0.765804 -0.025986  0.561998  ...  0.429327  0.808947 -0.023932   \n",
       "597  0.767783 -0.023710  0.561324  ...  0.429307  0.810935 -0.023443   \n",
       "598  0.769489 -0.021281  0.562187  ...  0.431145  0.811446 -0.022523   \n",
       "\n",
       "           57        58        59        60        61        62  Output  \n",
       "0    0.209725  0.442692 -0.104049  0.203805  0.402351 -0.107710       1  \n",
       "1    0.207248  0.430368 -0.105370  0.200352  0.395185 -0.106981       1  \n",
       "2    0.216626  0.438910 -0.100054  0.209424  0.403837 -0.102470       1  \n",
       "3    0.211923  0.454171 -0.108171  0.210991  0.411706 -0.109305       1  \n",
       "4    0.217903  0.473444 -0.115861  0.217759  0.432811 -0.116859       1  \n",
       "..        ...       ...       ...       ...       ...       ...     ...  \n",
       "594  0.360682  0.798657 -0.038640  0.378084  0.776581 -0.039933       5  \n",
       "595  0.347165  0.795184 -0.036959  0.363365  0.774697 -0.038135       5  \n",
       "596  0.409298  0.783474 -0.028310  0.392631  0.762542 -0.030718       5  \n",
       "597  0.409176  0.786181 -0.027890  0.392325  0.764877 -0.030587       5  \n",
       "598  0.411389  0.786187 -0.026949  0.394784  0.764575 -0.029734       5  \n",
       "\n",
       "[599 rows x 64 columns]"
      ]
     },
     "execution_count": 14,
     "metadata": {},
     "output_type": "execute_result"
    }
   ],
   "source": [
    "df = df.rename(columns={63: 'Output'})\n",
    "df"
   ]
  },
  {
   "cell_type": "code",
   "execution_count": 15,
   "metadata": {},
   "outputs": [
    {
     "name": "stdout",
     "output_type": "stream",
     "text": [
      "Features shape = (599, 63)\n",
      "Labels shape = (599,)\n"
     ]
    }
   ],
   "source": [
    "X = df.iloc[:, :-1]\n",
    "print(\"Features shape =\", X.shape)\n",
    "\n",
    "Y = df.iloc[:, -1]\n",
    "print(\"Labels shape =\", Y.shape)"
   ]
  },
  {
   "cell_type": "code",
   "execution_count": 16,
   "metadata": {},
   "outputs": [
    {
     "data": {
      "text/html": [
       "<style>#sk-container-id-1 {color: black;background-color: white;}#sk-container-id-1 pre{padding: 0;}#sk-container-id-1 div.sk-toggleable {background-color: white;}#sk-container-id-1 label.sk-toggleable__label {cursor: pointer;display: block;width: 100%;margin-bottom: 0;padding: 0.3em;box-sizing: border-box;text-align: center;}#sk-container-id-1 label.sk-toggleable__label-arrow:before {content: \"▸\";float: left;margin-right: 0.25em;color: #696969;}#sk-container-id-1 label.sk-toggleable__label-arrow:hover:before {color: black;}#sk-container-id-1 div.sk-estimator:hover label.sk-toggleable__label-arrow:before {color: black;}#sk-container-id-1 div.sk-toggleable__content {max-height: 0;max-width: 0;overflow: hidden;text-align: left;background-color: #f0f8ff;}#sk-container-id-1 div.sk-toggleable__content pre {margin: 0.2em;color: black;border-radius: 0.25em;background-color: #f0f8ff;}#sk-container-id-1 input.sk-toggleable__control:checked~div.sk-toggleable__content {max-height: 200px;max-width: 100%;overflow: auto;}#sk-container-id-1 input.sk-toggleable__control:checked~label.sk-toggleable__label-arrow:before {content: \"▾\";}#sk-container-id-1 div.sk-estimator input.sk-toggleable__control:checked~label.sk-toggleable__label {background-color: #d4ebff;}#sk-container-id-1 div.sk-label input.sk-toggleable__control:checked~label.sk-toggleable__label {background-color: #d4ebff;}#sk-container-id-1 input.sk-hidden--visually {border: 0;clip: rect(1px 1px 1px 1px);clip: rect(1px, 1px, 1px, 1px);height: 1px;margin: -1px;overflow: hidden;padding: 0;position: absolute;width: 1px;}#sk-container-id-1 div.sk-estimator {font-family: monospace;background-color: #f0f8ff;border: 1px dotted black;border-radius: 0.25em;box-sizing: border-box;margin-bottom: 0.5em;}#sk-container-id-1 div.sk-estimator:hover {background-color: #d4ebff;}#sk-container-id-1 div.sk-parallel-item::after {content: \"\";width: 100%;border-bottom: 1px solid gray;flex-grow: 1;}#sk-container-id-1 div.sk-label:hover label.sk-toggleable__label {background-color: #d4ebff;}#sk-container-id-1 div.sk-serial::before {content: \"\";position: absolute;border-left: 1px solid gray;box-sizing: border-box;top: 0;bottom: 0;left: 50%;z-index: 0;}#sk-container-id-1 div.sk-serial {display: flex;flex-direction: column;align-items: center;background-color: white;padding-right: 0.2em;padding-left: 0.2em;position: relative;}#sk-container-id-1 div.sk-item {position: relative;z-index: 1;}#sk-container-id-1 div.sk-parallel {display: flex;align-items: stretch;justify-content: center;background-color: white;position: relative;}#sk-container-id-1 div.sk-item::before, #sk-container-id-1 div.sk-parallel-item::before {content: \"\";position: absolute;border-left: 1px solid gray;box-sizing: border-box;top: 0;bottom: 0;left: 50%;z-index: -1;}#sk-container-id-1 div.sk-parallel-item {display: flex;flex-direction: column;z-index: 1;position: relative;background-color: white;}#sk-container-id-1 div.sk-parallel-item:first-child::after {align-self: flex-end;width: 50%;}#sk-container-id-1 div.sk-parallel-item:last-child::after {align-self: flex-start;width: 50%;}#sk-container-id-1 div.sk-parallel-item:only-child::after {width: 0;}#sk-container-id-1 div.sk-dashed-wrapped {border: 1px dashed gray;margin: 0 0.4em 0.5em 0.4em;box-sizing: border-box;padding-bottom: 0.4em;background-color: white;}#sk-container-id-1 div.sk-label label {font-family: monospace;font-weight: bold;display: inline-block;line-height: 1.2em;}#sk-container-id-1 div.sk-label-container {text-align: center;}#sk-container-id-1 div.sk-container {/* jupyter's `normalize.less` sets `[hidden] { display: none; }` but bootstrap.min.css set `[hidden] { display: none !important; }` so we also need the `!important` here to be able to override the default hidden behavior on the sphinx rendered scikit-learn.org. See: https://github.com/scikit-learn/scikit-learn/issues/21755 */display: inline-block !important;position: relative;}#sk-container-id-1 div.sk-text-repr-fallback {display: none;}</style><div id=\"sk-container-id-1\" class=\"sk-top-container\"><div class=\"sk-text-repr-fallback\"><pre>SVC(C=10, gamma=0.1)</pre><b>In a Jupyter environment, please rerun this cell to show the HTML representation or trust the notebook. <br />On GitHub, the HTML representation is unable to render, please try loading this page with nbviewer.org.</b></div><div class=\"sk-container\" hidden><div class=\"sk-item\"><div class=\"sk-estimator sk-toggleable\"><input class=\"sk-toggleable__control sk-hidden--visually\" id=\"sk-estimator-id-1\" type=\"checkbox\" checked><label for=\"sk-estimator-id-1\" class=\"sk-toggleable__label sk-toggleable__label-arrow\">SVC</label><div class=\"sk-toggleable__content\"><pre>SVC(C=10, gamma=0.1)</pre></div></div></div></div></div>"
      ],
      "text/plain": [
       "SVC(C=10, gamma=0.1)"
      ]
     },
     "execution_count": 16,
     "metadata": {},
     "output_type": "execute_result"
    }
   ],
   "source": [
    "x_train, x_test, y_train, y_test = train_test_split(X, Y, test_size=0.2, random_state=0)\n",
    "svm = SVC(C=10, gamma=0.1, kernel='rbf')\n",
    "svm.fit(x_train, y_train)"
   ]
  },
  {
   "cell_type": "code",
   "execution_count": 17,
   "metadata": {},
   "outputs": [
    {
     "data": {
      "text/plain": [
       "array([1, 1, 4, 4, 2, 3, 2, 5, 5, 4, 4, 3, 5, 5, 3, 3, 2, 3, 2, 3, 2, 4,\n",
       "       2, 1, 2, 5, 1, 1, 3, 5, 4, 1, 2, 5, 1, 1, 3, 5, 3, 2, 3, 1, 1, 1,\n",
       "       3, 1, 4, 4, 3, 1, 1, 1, 2, 2, 1, 4, 5, 3, 1, 3, 2, 4, 1, 4, 5, 4,\n",
       "       1, 3, 4, 1, 1, 1, 3, 3, 4, 3, 2, 1, 3, 2, 1, 1, 1, 1, 5, 4, 2, 5,\n",
       "       4, 5, 3, 4, 1, 1, 1, 1, 1, 1, 2, 1, 4, 5, 5, 2, 4, 5, 4, 2, 2, 5,\n",
       "       3, 4, 1, 5, 2, 1, 1, 3, 3, 5], dtype=int64)"
      ]
     },
     "execution_count": 17,
     "metadata": {},
     "output_type": "execute_result"
    }
   ],
   "source": [
    "y_pred = svm.predict(x_test)\n",
    "y_pred"
   ]
  },
  {
   "cell_type": "code",
   "execution_count": 21,
   "metadata": {},
   "outputs": [
    {
     "data": {
      "text/plain": [
       "(0.9500000000000001, 0.95, 0.95)"
      ]
     },
     "execution_count": 21,
     "metadata": {},
     "output_type": "execute_result"
    }
   ],
   "source": [
    "cf_matrix = confusion_matrix(y_test, y_pred)\n",
    "f1 = f1_score(y_test, y_pred, average='micro')\n",
    "recall = recall_score(y_test, y_pred, average='micro')\n",
    "precision = precision_score(y_test, y_pred, average='micro')\n",
    "f1, recall, precision"
   ]
  },
  {
   "cell_type": "code",
   "execution_count": 23,
   "metadata": {},
   "outputs": [
    {
     "data": {
      "text/plain": [
       "<AxesSubplot:title={'center':'Confusion Matrix - American Sign Language'}>"
      ]
     },
     "execution_count": 23,
     "metadata": {},
     "output_type": "execute_result"
    },
    {
     "data": {
      "image/png": "[encoded data removed]",
      "text/plain": [
       "<Figure size 864x864 with 2 Axes>"
      ]
     },
     "metadata": {
      "needs_background": "light"
     },
     "output_type": "display_data"
    }
   ],
   "source": [
    "labels = sorted(list(set(df['Output'])))\n",
    "labels = [x for x in labels]\n",
    "\n",
    "fig, ax = plt.subplots(figsize=(12, 12))\n",
    "\n",
    "ax.set_title(\"Confusion Matrix - American Sign Language\")\n",
    "\n",
    "maping = sns.heatmap(cf_matrix, \n",
    "                     annot=True,\n",
    "                     cmap = plt.cm.Blues, \n",
    "                     linewidths=.2,\n",
    "                     xticklabels=labels,\n",
    "                     yticklabels=labels, vmax=8,\n",
    "                     fmt='g',\n",
    "                     ax=ax\n",
    "                    )\n",
    "maping"
   ]
  },
  {
   "cell_type": "code",
   "execution_count": null,
   "metadata": {},
   "outputs": [],
   "source": []
  },
  {
   "cell_type": "code",
   "execution_count": 25,
   "metadata": {},
   "outputs": [],
   "source": [
    "import pickle\n",
    "\n",
    "# save model\n",
    "with open('model.pkl','wb') as f:\n",
    "    pickle.dump(svm,f)"
   ]
  }
 ],
 "metadata": {
  "kernelspec": {
   "display_name": "Python 3.10.5 64-bit (windows store)",
   "language": "python",
   "name": "python3"
  },
  "language_info": {
   "codemirror_mode": {
    "name": "ipython",
    "version": 3
   },
   "file_extension": ".py",
   "mimetype": "text/x-python",
   "name": "python",
   "nbconvert_exporter": "python",
   "pygments_lexer": "ipython3",
   "version": "3.10.5"
  },
  "orig_nbformat": 4,
  "vscode": {
   "interpreter": {
    "hash": "7536d7b229462f4296d4c0dae49c3bd6cd3990c783d6b9d88ce3c31a78605890"
   }
  }
 },
 "nbformat": 4,
 "nbformat_minor": 2
}
